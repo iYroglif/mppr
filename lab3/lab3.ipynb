{
 "cells": [
  {
   "cell_type": "code",
   "execution_count": 1,
   "id": "bff42133",
   "metadata": {},
   "outputs": [],
   "source": [
    "import tensorflow as tf\n",
    "import tensorflow_datasets as tfds\n",
    "import matplotlib.pyplot as plt\n",
    "import numpy as np\n",
    "import os"
   ]
  },
  {
   "cell_type": "markdown",
   "id": "96b9c500",
   "metadata": {},
   "source": [
    "Создание двух вычислительных графов:"
   ]
  },
  {
   "cell_type": "code",
   "execution_count": 2,
   "id": "4c064cd9",
   "metadata": {},
   "outputs": [
    {
     "name": "stdout",
     "output_type": "stream",
     "text": [
      "3\n",
      "36\n"
     ]
    }
   ],
   "source": [
    "a = tf.constant(1)\n",
    "b = tf.constant(2)\n",
    "c = tf.constant(3)\n",
    "\n",
    "y1 = tf.add(a, b)\n",
    "y2 = tf.multiply(c, b)\n",
    "y3 = tf.pow(y2, 2)\n",
    "\n",
    "print(y1.numpy())\n",
    "print(y3.numpy())"
   ]
  },
  {
   "cell_type": "markdown",
   "id": "9f41ac24",
   "metadata": {},
   "source": [
    "Загрузка датасета MNIST и вывод информации о нем:"
   ]
  },
  {
   "cell_type": "code",
   "execution_count": 3,
   "id": "2a83197d",
   "metadata": {
    "scrolled": false
   },
   "outputs": [
    {
     "data": {
      "text/plain": [
       "tfds.core.DatasetInfo(\n",
       "    name='mnist',\n",
       "    full_name='mnist/3.0.1',\n",
       "    description=\"\"\"\n",
       "    The MNIST database of handwritten digits.\n",
       "    \"\"\",\n",
       "    homepage='http://yann.lecun.com/exdb/mnist/',\n",
       "    data_path='C:\\\\Users\\\\webma\\\\tensorflow_datasets\\\\mnist\\\\3.0.1',\n",
       "    download_size=11.06 MiB,\n",
       "    dataset_size=21.00 MiB,\n",
       "    features=FeaturesDict({\n",
       "        'image': Image(shape=(28, 28, 1), dtype=tf.uint8),\n",
       "        'label': ClassLabel(shape=(), dtype=tf.int64, num_classes=10),\n",
       "    }),\n",
       "    supervised_keys=('image', 'label'),\n",
       "    disable_shuffling=False,\n",
       "    splits={\n",
       "        'test': <SplitInfo num_examples=10000, num_shards=1>,\n",
       "        'train': <SplitInfo num_examples=60000, num_shards=1>,\n",
       "    },\n",
       "    citation=\"\"\"@article{lecun2010mnist,\n",
       "      title={MNIST handwritten digit database},\n",
       "      author={LeCun, Yann and Cortes, Corinna and Burges, CJ},\n",
       "      journal={ATT Labs [Online]. Available: http://yann.lecun.com/exdb/mnist},\n",
       "      volume={2},\n",
       "      year={2010}\n",
       "    }\"\"\",\n",
       ")"
      ]
     },
     "execution_count": 3,
     "metadata": {},
     "output_type": "execute_result"
    }
   ],
   "source": [
    "(data_train, data_test), data_info = tfds.load('mnist', split=['train', 'test'], with_info=True, as_supervised=True)\n",
    "data_info"
   ]
  },
  {
   "cell_type": "markdown",
   "id": "5885ccd8",
   "metadata": {},
   "source": [
    "Предобработка обучающего и тестового наборов данных:"
   ]
  },
  {
   "cell_type": "code",
   "execution_count": 4,
   "id": "3dad65d4",
   "metadata": {},
   "outputs": [],
   "source": [
    "batch_size = 100\n",
    "\n",
    "# Загрузка данных в оперативную память\n",
    "data_train = data_train.cache()\n",
    "# Перемешивание данных\n",
    "data_train = data_train.shuffle(data_info.splits['train'].num_examples)\n",
    "# Объединение данных в пакеты\n",
    "data_train = data_train.batch(batch_size)\n",
    "# Предварительная подготовка следующих данных\n",
    "data_train = data_train.prefetch(tf.data.AUTOTUNE)\n",
    "\n",
    "data_test = data_test.batch(batch_size)\n",
    "data_test = data_test.cache()\n",
    "data_test = data_test.prefetch(tf.data.AUTOTUNE)"
   ]
  },
  {
   "cell_type": "markdown",
   "id": "4800126f",
   "metadata": {},
   "source": [
    "Функция построения модели нейронной сети:"
   ]
  },
  {
   "cell_type": "code",
   "execution_count": 5,
   "id": "5fa1a5a8",
   "metadata": {},
   "outputs": [],
   "source": [
    "def new_model():\n",
    "    model = tf.keras.models.Sequential([\n",
    "        tf.keras.layers.Flatten(input_shape=data_info.features['image'].shape, dtype=tf.float32),\n",
    "        tf.keras.layers.Rescaling(scale=1./255),\n",
    "        tf.keras.layers.Dense(200, activation='relu'),\n",
    "        tf.keras.layers.Dense(100, activation='relu'),\n",
    "        tf.keras.layers.Dense(60, activation='relu'),\n",
    "        tf.keras.layers.Dense(30, activation='relu'),\n",
    "        tf.keras.layers.Dense(10)])\n",
    "    return model"
   ]
  },
  {
   "cell_type": "code",
   "execution_count": 6,
   "id": "e754b758",
   "metadata": {},
   "outputs": [],
   "source": [
    "checkpoint_path = \"./lab3.ckpt\"\n",
    "log_path = \"./logs/\"\n",
    "learning_rate = 0.05\n",
    "num_epochs = 5"
   ]
  },
  {
   "cell_type": "markdown",
   "id": "45532e20",
   "metadata": {},
   "source": [
    "Стадия обучения модели на обучающем наборе данных:"
   ]
  },
  {
   "cell_type": "code",
   "execution_count": 7,
   "id": "87ce3a87",
   "metadata": {
    "scrolled": false
   },
   "outputs": [
    {
     "name": "stdout",
     "output_type": "stream",
     "text": [
      "Epoch: 0\tПотери: 0.6197212338447571\tТочность: 80.8566665649414%\n",
      "Epoch: 1\tПотери: 0.19984018802642822\tТочность: 94.0999984741211%\n",
      "Epoch: 2\tПотери: 0.14387278258800507\tТочность: 95.64833068847656%\n",
      "Epoch: 3\tПотери: 0.11261340975761414\tТочность: 96.6483383178711%\n",
      "Epoch: 4\tПотери: 0.09044107794761658\tТочность: 97.26667022705078%\n",
      "Обученная модель сохранена в файл: ./lab3.ckpt.index\n"
     ]
    }
   ],
   "source": [
    "train_summary_writer = tf.summary.create_file_writer(log_path)\n",
    "train_acc = tf.keras.metrics.SparseCategoricalAccuracy()\n",
    "\n",
    "model = new_model()\n",
    "\n",
    "cce = tf.keras.losses.SparseCategoricalCrossentropy(from_logits=True)\n",
    "optimizer = tf.keras.optimizers.SGD(learning_rate=learning_rate)\n",
    "\n",
    "epoch_loss = tf.keras.metrics.Mean()\n",
    "epoch_acc = tf.keras.metrics.SparseCategoricalAccuracy()\n",
    "\n",
    "for epoch in range(num_epochs):\n",
    "    epoch_loss.reset_state()\n",
    "    epoch_acc.reset_state()\n",
    "    steps = 0\n",
    "    for image, label in data_train:\n",
    "        steps += 1\n",
    "        train_acc.reset_state()\n",
    "        with tf.GradientTape() as tape:\n",
    "            predicted_labels = model(image, training=True)\n",
    "            loss = cce(label, predicted_labels)\n",
    "            epoch_loss.update_state(loss)\n",
    "            epoch_acc.update_state(label, predicted_labels)\n",
    "        gradients = tape.gradient(loss, model.trainable_variables)\n",
    "        optimizer.apply_gradients(zip(gradients, model.trainable_variables))\n",
    "        train_acc.update_state(label, predicted_labels)\n",
    "        with train_summary_writer.as_default():\n",
    "            # Сохранение сводных статистик для визуализации Tensorboard\n",
    "            tf.summary.scalar('train_loss', loss, step=(epoch+1)*steps*batch_size)\n",
    "            tf.summary.scalar('train_accuracy', train_acc.result(), step=(epoch+1)*steps*batch_size)\n",
    "    print('Epoch: {}\\tПотери: {}\\tТочность: {}%'.format(epoch, epoch_loss.result(), epoch_acc.result()*100))\n",
    "\n",
    "model.save_weights(checkpoint_path)\n",
    "print('Обученная модель сохранена в файл: {}.index'.format(checkpoint_path))"
   ]
  },
  {
   "cell_type": "code",
   "execution_count": 8,
   "id": "57fce2cf",
   "metadata": {},
   "outputs": [],
   "source": [
    "%load_ext tensorboard"
   ]
  },
  {
   "cell_type": "markdown",
   "id": "9c12fc38",
   "metadata": {},
   "source": [
    "Восстановление обученной модели из файла и ее тестирование на тестовом наборе данных:"
   ]
  },
  {
   "cell_type": "code",
   "execution_count": 9,
   "id": "08debdd2",
   "metadata": {},
   "outputs": [
    {
     "name": "stdout",
     "output_type": "stream",
     "text": [
      "Необученная модель. Точность: 11.069999694824219%\n",
      "Модель восстановлена из файла:  ./lab3.ckpt\n",
      "Обученная модель. Точность: 97.06999969482422%\n"
     ]
    }
   ],
   "source": [
    "model = new_model()\n",
    "\n",
    "untrain_acc = tf.keras.metrics.SparseCategoricalAccuracy()\n",
    "\n",
    "for image, label in data_test:\n",
    "    predicted_labels = model(image, training=False)\n",
    "    untrain_acc.update_state(label, predicted_labels)\n",
    "    \n",
    "print('Необученная модель. Точность: {}%'.format(untrain_acc.result()*100))\n",
    "\n",
    "if os.path.isfile(checkpoint_path + '.index'):\n",
    "    model.load_weights(checkpoint_path)\n",
    "    print('Модель восстановлена из файла: ', checkpoint_path)\n",
    "    \n",
    "test_summary_writer = tf.summary.create_file_writer(log_path)\n",
    "loaded_acc = tf.keras.metrics.SparseCategoricalAccuracy()\n",
    "curr_acc = tf.keras.metrics.SparseCategoricalAccuracy()\n",
    "\n",
    "steps = 0\n",
    "for image, label in data_test:\n",
    "    steps += 1\n",
    "    curr_acc.reset_state()\n",
    "    predicted_labels = model(image, training=False)\n",
    "    loaded_acc.update_state(label, predicted_labels)\n",
    "    curr_acc.update_state(label, predicted_labels)\n",
    "    with test_summary_writer.as_default():\n",
    "        tf.summary.scalar('test_accuracy', curr_acc.result(), step=steps*batch_size)\n",
    "    \n",
    "print('Обученная модель. Точность: {}%'.format(loaded_acc.result()*100))"
   ]
  },
  {
   "cell_type": "code",
   "execution_count": 10,
   "id": "626a8c98",
   "metadata": {
    "scrolled": true
   },
   "outputs": [
    {
     "data": {
      "image/png": "[encoded data removed]",
      "text/plain": [
       "<Figure size 432x288 with 5 Axes>"
      ]
     },
     "metadata": {
      "needs_background": "light"
     },
     "output_type": "display_data"
    }
   ],
   "source": [
    "empty_model = new_model()\n",
    "taked = data_test.take(1)\n",
    "fig, axs = plt.subplots(1, 5)\n",
    "\n",
    "for images, _ in taked:\n",
    "    predicted_labels = empty_model(images, training=False)\n",
    "    for i in range(5):\n",
    "        axs[i].imshow(images[i])\n",
    "        axs[i].set_title(np.argmax(predicted_labels[i]))\n",
    "plt.show()"
   ]
  },
  {
   "cell_type": "code",
   "execution_count": 11,
   "id": "a27d82fd",
   "metadata": {},
   "outputs": [
    {
     "data": {
      "image/png": "[encoded data removed]",
      "text/plain": [
       "<Figure size 432x288 with 5 Axes>"
      ]
     },
     "metadata": {
      "needs_background": "light"
     },
     "output_type": "display_data"
    }
   ],
   "source": [
    "fig, axs = plt.subplots(1, 5)\n",
    "\n",
    "for images, _ in taked:\n",
    "    predicted_labels = model(images, training=False)\n",
    "    for i in range(5):\n",
    "        axs[i].imshow(images[i])\n",
    "        axs[i].set_title(np.argmax(predicted_labels[i]))\n",
    "plt.show()"
   ]
  },
  {
   "cell_type": "code",
   "execution_count": null,
   "id": "26c43def",
   "metadata": {},
   "outputs": [],
   "source": []
  }
 ],
 "metadata": {
  "kernelspec": {
   "display_name": "Python 3 (ipykernel)",
   "language": "python",
   "name": "python3"
  },
  "language_info": {
   "codemirror_mode": {
    "name": "ipython",
    "version": 3
   },
   "file_extension": ".py",
   "mimetype": "text/x-python",
   "name": "python",
   "nbconvert_exporter": "python",
   "pygments_lexer": "ipython3",
   "version": "3.9.7"
  }
 },
 "nbformat": 4,
 "nbformat_minor": 5
}
