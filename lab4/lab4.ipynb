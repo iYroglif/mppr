{
 "cells": [
  {
   "cell_type": "code",
   "execution_count": 1,
   "id": "0fe3d762",
   "metadata": {},
   "outputs": [],
   "source": [
    "import numpy as np\n",
    "import random\n",
    "import matplotlib.pyplot as plt"
   ]
  },
  {
   "cell_type": "markdown",
   "id": "c2003a2f",
   "metadata": {},
   "source": [
    "Функция приспособленности:"
   ]
  },
  {
   "cell_type": "code",
   "execution_count": 2,
   "id": "4e32767b",
   "metadata": {},
   "outputs": [],
   "source": [
    "def fitness(chromosome):\n",
    "    y = network[departure][chromosome[0]]\n",
    "    y += network[destination][chromosome[-1]]\n",
    "    for i in range(1, len(chromosome)):\n",
    "        y += network[chromosome[i-1]][chromosome[i]]\n",
    "    return y"
   ]
  },
  {
   "cell_type": "markdown",
   "id": "b4aad7f8",
   "metadata": {},
   "source": [
    "Селекция:"
   ]
  },
  {
   "cell_type": "code",
   "execution_count": 3,
   "id": "d5e44fb7",
   "metadata": {},
   "outputs": [],
   "source": [
    "def selection(population):\n",
    "    return sorted(population, key=lambda x:fitness(x))[:population_size//2]"
   ]
  },
  {
   "cell_type": "markdown",
   "id": "6f131f74",
   "metadata": {},
   "source": [
    "Скрещивание:"
   ]
  },
  {
   "cell_type": "code",
   "execution_count": 4,
   "id": "f28cb2ee",
   "metadata": {},
   "outputs": [],
   "source": [
    "def crossover(parent1, parent2, k=2):\n",
    "    child1 = parent2[:]\n",
    "    child2 = parent1[:]\n",
    "    for i in range(k):\n",
    "        tmp = np.random.randint(1, len(child1)-1)\n",
    "        for i in range(tmp):\n",
    "            child1[i] = parent1[i]\n",
    "            child2[i] = parent2[i]\n",
    "    return child1, child2"
   ]
  },
  {
   "cell_type": "markdown",
   "id": "147f7131",
   "metadata": {},
   "source": [
    "Мутация:"
   ]
  },
  {
   "cell_type": "code",
   "execution_count": 5,
   "id": "9b330e94",
   "metadata": {},
   "outputs": [],
   "source": [
    "def mutation(chromosome, prob=0.01):\n",
    "    for i in range(len(chromosome)):\n",
    "        if np.random.random() < prob:\n",
    "            mut_gen = chromosome[i]\n",
    "            while chromosome[i] == mut_gen:\n",
    "                mut_gen = np.random.randint(n_computers)\n",
    "            chromosome[i] = mut_gen\n",
    "    return chromosome"
   ]
  },
  {
   "cell_type": "markdown",
   "id": "bd9368f9",
   "metadata": {},
   "source": [
    "Исходные данные:"
   ]
  },
  {
   "cell_type": "code",
   "execution_count": 6,
   "id": "418a5408",
   "metadata": {},
   "outputs": [],
   "source": [
    "departure = 0\n",
    "destination = 9\n",
    "n_computers = 10\n",
    "population_size = 100\n",
    "n_generations = 50\n",
    "mutation_probability = 0.01\n",
    "\n",
    "user_network = [[0,                110, 78, 71, 67, 139, 29, 234, 65, 1000],\n",
    "               [0,0,               155, 72, 1000, 87, 1000, 1000, 72, 1000],\n",
    "               [0,0,0,             1000, 1000, 1000, 1000, 1000, 1000, 51],\n",
    "               [0,0,0,0,           345,   58, 1000,   90,  145, 1000],\n",
    "               [0,0,0,0,0,         1000,    4, 1000,   32,  160],\n",
    "               [0,0,0,0,0,0,       1000, 1000, 1000,   87],\n",
    "               [0,0,0,0,0,0,0,     1000,   67, 1000],\n",
    "               [0,0,0,0,0,0,0,0,   140,  159],\n",
    "               [0,0,0,0,0,0,0,0,0, 87],\n",
    "               [0,0,0,0,0,0,0,0,0,0,0]]"
   ]
  },
  {
   "cell_type": "markdown",
   "id": "de6ca3c3",
   "metadata": {},
   "source": [
    "Построение топологии сети (пропускные способности каналов связи):"
   ]
  },
  {
   "cell_type": "code",
   "execution_count": 7,
   "id": "f2d1bcba",
   "metadata": {},
   "outputs": [],
   "source": [
    "def build_network():\n",
    "    network = []\n",
    "    for i in range(n_computers):\n",
    "        network.append([])\n",
    "        for j in range(n_computers):\n",
    "            network[i].append(0)\n",
    "    for i in range(n_computers):\n",
    "        for j in range(i+1, n_computers):\n",
    "            network[i][j] = np.random.randint(200)\n",
    "    for i in range(n_computers):\n",
    "        for j in range(i):\n",
    "            network[i][j] = network[j][i]\n",
    "    for i in range(len(network)):\n",
    "        for j in range(len(network[i])):\n",
    "            if network[i][j] >= 100:\n",
    "                network[i][j] = 1000\n",
    "                network[j][i] = 1000\n",
    "    return network"
   ]
  },
  {
   "cell_type": "markdown",
   "id": "cb7a2979",
   "metadata": {},
   "source": [
    "Начальная популяция:"
   ]
  },
  {
   "cell_type": "code",
   "execution_count": 8,
   "id": "8cb444b4",
   "metadata": {
    "scrolled": true
   },
   "outputs": [],
   "source": [
    "def initial_population():\n",
    "    chromosomes = []\n",
    "    for k in range(population_size):\n",
    "        chromosomes.append([])\n",
    "        for i in range(n_computers-2):\n",
    "            chromosomes[k].append(np.random.randint(n_computers))\n",
    "    return chromosomes"
   ]
  },
  {
   "cell_type": "markdown",
   "id": "9a132c9e",
   "metadata": {},
   "source": [
    "Пропускные способности каналов связи:"
   ]
  },
  {
   "cell_type": "code",
   "execution_count": 9,
   "id": "b00dfe39",
   "metadata": {},
   "outputs": [
    {
     "data": {
      "text/plain": [
       "[[0, 47, 50, 1000, 92, 1000, 1000, 1000, 1000, 82],\n",
       " [47, 0, 77, 1000, 85, 69, 1000, 1000, 14, 1000],\n",
       " [50, 77, 0, 1000, 1000, 61, 1000, 1000, 23, 1000],\n",
       " [1000, 1000, 1000, 0, 1000, 80, 1000, 41, 1000, 1000],\n",
       " [92, 85, 1000, 1000, 0, 1000, 1000, 1000, 1000, 53],\n",
       " [1000, 69, 61, 80, 1000, 0, 65, 1000, 1000, 1000],\n",
       " [1000, 1000, 1000, 1000, 1000, 65, 0, 1000, 94, 80],\n",
       " [1000, 1000, 1000, 41, 1000, 1000, 1000, 0, 48, 80],\n",
       " [1000, 14, 23, 1000, 1000, 1000, 94, 48, 0, 56],\n",
       " [82, 1000, 1000, 1000, 53, 1000, 80, 80, 56, 0]]"
      ]
     },
     "execution_count": 9,
     "metadata": {},
     "output_type": "execute_result"
    }
   ],
   "source": [
    "network = build_network()\n",
    "network"
   ]
  },
  {
   "cell_type": "markdown",
   "id": "0fa9015a",
   "metadata": {},
   "source": [
    "Генетический алгоритм:"
   ]
  },
  {
   "cell_type": "code",
   "execution_count": 10,
   "id": "7b4bce94",
   "metadata": {},
   "outputs": [
    {
     "name": "stdout",
     "output_type": "stream",
     "text": [
      "\n",
      "\tЭксперимент:  1\n",
      "Поколение 0 Лучший представитель [6, 8, 2, 8, 2, 0, 9, 7] Результат 1455\n",
      "Поколение 50 Лучший представитель [1, 8, 8, 8, 8, 8, 8, 8] Результат 117\n",
      "\n",
      "\tЭксперимент:  2\n",
      "Поколение 0 Лучший представитель [1, 5, 5, 1, 1, 5, 8, 9] Результат 1310\n",
      "Поколение 50 Лучший представитель [0, 0, 2, 2, 8, 8, 8, 9] Результат 129\n",
      "\n",
      "\tЭксперимент:  3\n",
      "Поколение 0 Лучший представитель [0, 2, 8, 1, 5, 0, 2, 8] Результат 1285\n",
      "Поколение 50 Лучший представитель [0, 2, 2, 2, 2, 2, 2, 8] Результат 129\n",
      "\n",
      "\tЭксперимент:  4\n",
      "Поколение 0 Лучший представитель [1, 8, 2, 2, 5, 5, 9, 0] Результат 1309\n",
      "Поколение 50 Лучший представитель [0, 1, 1, 8, 8, 8, 8, 8] Результат 117\n",
      "\n",
      "\tЭксперимент:  5\n",
      "Поколение 0 Лучший представитель [1, 5, 2, 0, 2, 8, 9, 9] Результат 356\n",
      "Поколение 50 Лучший представитель [1, 1, 1, 1, 8, 8, 9, 9] Результат 117\n",
      "\n",
      "\tЭксперимент:  6\n",
      "Поколение 0 Лучший представитель [2, 8, 8, 9, 8, 1, 4, 4] Результат 337\n",
      "Поколение 50 Лучший представитель [0, 0, 0, 1, 8, 9, 9, 9] Результат 117\n",
      "\n",
      "\tЭксперимент:  7\n",
      "Поколение 0 Лучший представитель [1, 0, 1, 1, 5, 2, 1, 6] Результат 1428\n",
      "Поколение 50 Лучший представитель [0, 0, 1, 1, 1, 8, 8, 8] Результат 117\n",
      "\n",
      "\tЭксперимент:  8\n",
      "Поколение 0 Лучший представитель [9, 7, 9, 3, 5, 5, 1, 8] Результат 1461\n",
      "Поколение 50 Лучший представитель [1, 8, 8, 8, 8, 8, 8, 9] Результат 117\n",
      "\n",
      "\tЭксперимент:  9\n",
      "Поколение 0 Лучший представитель [1, 8, 3, 5, 1, 0, 2, 8] Результат 1386\n",
      "Поколение 50 Лучший представитель [0, 1, 1, 1, 1, 1, 8, 8] Результат 117\n",
      "\n",
      "\tЭксперимент:  10\n",
      "Поколение 0 Лучший представитель [2, 2, 8, 1, 9, 4, 0, 9] Результат 1314\n",
      "Поколение 50 Лучший представитель [0, 0, 0, 0, 1, 1, 8, 9] Результат 117\n"
     ]
    },
    {
     "data": {
      "image/png": "[encoded data removed]",
      "text/plain": [
       "<Figure size 432x288 with 1 Axes>"
      ]
     },
     "metadata": {
      "needs_background": "light"
     },
     "output_type": "display_data"
    }
   ],
   "source": [
    "for i in range(10):\n",
    "    print('\\n\\tЭксперимент: ', i+1)\n",
    "    chromosomes = initial_population()\n",
    "    best_start = min(chromosomes, key=lambda chromosome: fitness(chromosome))\n",
    "    print('Поколение 0 Лучший представитель {} Результат {}'.format(best_start, fitness(best_start)))\n",
    "    res = []\n",
    "    log = []\n",
    "    for k in range(n_generations):\n",
    "        selected = selection(chromosomes)\n",
    "\n",
    "        for i in range((population_size-len(selected))//2):\n",
    "            parents = random.sample(selected, 2)\n",
    "            child1, child2 = crossover(parents[0], parents[1])\n",
    "            selected.append(child1)\n",
    "            selected.append(child2)\n",
    "\n",
    "        for i in range(len(selected)):\n",
    "            selected[i] = mutation(selected[i])\n",
    "\n",
    "        chromosomes = selected\n",
    "\n",
    "        best_chromosome = min(chromosomes, key=lambda chromosome: fitness(chromosome))\n",
    "        log.append(fitness(best_chromosome))\n",
    "        #print('Поколение {} Лучший представитель {} Результат {}'.format(k, best_chromosome, fitness(best_chromosome)))\n",
    "        res.append(best_chromosome)\n",
    "    plt.plot(log)\n",
    "    best_exp = min(res, key=lambda chromosome: fitness(chromosome))\n",
    "    print('Поколение {} Лучший представитель {} Результат {}'.format(n_generations, best_exp, fitness(best_exp)))"
   ]
  },
  {
   "cell_type": "code",
   "execution_count": null,
   "id": "aef00fd5",
   "metadata": {},
   "outputs": [],
   "source": []
  }
 ],
 "metadata": {
  "kernelspec": {
   "display_name": "Python 3 (ipykernel)",
   "language": "python",
   "name": "python3"
  },
  "language_info": {
   "codemirror_mode": {
    "name": "ipython",
    "version": 3
   },
   "file_extension": ".py",
   "mimetype": "text/x-python",
   "name": "python",
   "nbconvert_exporter": "python",
   "pygments_lexer": "ipython3",
   "version": "3.9.7"
  }
 },
 "nbformat": 4,
 "nbformat_minor": 5
}
